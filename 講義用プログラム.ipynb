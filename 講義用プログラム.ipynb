{
  "cells": [
    {
      "cell_type": "markdown",
      "id": "ef669934",
      "metadata": {
        "id": "ef669934"
      },
      "source": [
        "# Python入門\n",
        "\n",
        "- pythonはプログラミング言語\n",
        "- 統計分析や可視化に必要なライブラリが豊富\n",
        "- 開発環境のインストールが容易\n",
        "- IRではデータフレームというデータ構造が重宝する\n",
        "- ダウンロードやインストール情報はこちらを参考に　https://www.javadrive.jp/python/\n",
        "- 導入にはAnaconda（必要なライブラリなどがパッケージ）がおすすめ\n",
        "- 開発環境はJupyter Notebookがおすすめ（Anacondaにに標準搭載）\n",
        "- ページの実行をリセットするには[ランタイム]->[セッションを再起動]\n",
        "- ページの出力をリセットするには[編集]->[出力を全て消去]"
      ]
    },
    {
      "cell_type": "markdown",
      "id": "15a0c99b",
      "metadata": {
        "id": "15a0c99b"
      },
      "source": [
        "この環境で、セルを挿入するには、挿入したい場所の一つ上のセルを選択（マウスポインタ指定しダブルクリックか、矢印キー）し、上の＋コードボタンを押下する。\n",
        "はさみのアイコンはセルの削除であるので注意。\n",
        "\n",
        "左側面にファイルリストが表示されていないときは、左の🗂️アイコン。"
      ]
    },
    {
      "cell_type": "code",
      "source": [
        "!ls"
      ],
      "metadata": {
        "colab": {
          "base_uri": "https://localhost:8080/"
        },
        "id": "wkRojHiJNH8d",
        "outputId": "82ef4db2-16ad-4de3-f762-068782a61f89"
      },
      "id": "wkRojHiJNH8d",
      "execution_count": 3,
      "outputs": [
        {
          "output_type": "stream",
          "name": "stdout",
          "text": [
            "drive  sample_data\n"
          ]
        }
      ]
    },
    {
      "cell_type": "markdown",
      "id": "f25752de",
      "metadata": {
        "id": "f25752de"
      },
      "source": [
        "## 1 代入文とprint文"
      ]
    },
    {
      "cell_type": "markdown",
      "id": "0f9c26f8",
      "metadata": {
        "id": "0f9c26f8"
      },
      "source": [
        "pythonのコード（文と呼ぶ）を実行するときは、横の▷のボタンか、[ctrl]+[return] キーを押下"
      ]
    },
    {
      "cell_type": "markdown",
      "id": "b29fd401",
      "metadata": {
        "id": "b29fd401"
      },
      "source": [
        "四則演算などは普通に。"
      ]
    },
    {
      "cell_type": "code",
      "execution_count": null,
      "id": "aaec53d7",
      "metadata": {
        "id": "aaec53d7"
      },
      "outputs": [],
      "source": [
        "1+2"
      ]
    },
    {
      "cell_type": "markdown",
      "id": "c81842ec",
      "metadata": {
        "id": "c81842ec"
      },
      "source": [
        "処理した結果を格納しておく場所が必要であるが、これを変数と呼び、**代入**という操作で処理結果を**変数**に格納することができます。代入文は左辺に変数、右辺に値（数値や文字列、複雑なデータ構造）を置きます。変数に値が入っていない場合はこの行為を「初期化する」とも言いいます。"
      ]
    },
    {
      "cell_type": "code",
      "execution_count": null,
      "id": "f1e1f339",
      "metadata": {
        "tags": [],
        "id": "f1e1f339"
      },
      "outputs": [],
      "source": [
        "x = 1 # 代入文だけ実行しても、何も起こっていないように見えます（何らかの出力はない）。"
      ]
    },
    {
      "cell_type": "markdown",
      "id": "32a3b3ad",
      "metadata": {
        "id": "32a3b3ad"
      },
      "source": [
        "初期化された変数であれば、それだけを評価（実行すること）すると、代入された値が出力（表示される）"
      ]
    },
    {
      "cell_type": "code",
      "execution_count": null,
      "id": "4b2f31f4",
      "metadata": {
        "tags": [],
        "id": "4b2f31f4"
      },
      "outputs": [],
      "source": [
        "x"
      ]
    },
    {
      "cell_type": "markdown",
      "id": "58c410fe",
      "metadata": {
        "id": "58c410fe"
      },
      "source": [
        "print関数で初期化済みの変数の中身を表示させることができます。"
      ]
    },
    {
      "cell_type": "code",
      "execution_count": null,
      "id": "deb7757a",
      "metadata": {
        "tags": [],
        "id": "deb7757a"
      },
      "outputs": [],
      "source": [
        "print(x)"
      ]
    },
    {
      "cell_type": "markdown",
      "id": "dc2f5221",
      "metadata": {
        "id": "dc2f5221"
      },
      "source": [
        "この実行環境（jupyter）では、複数の文を一つのセルにまとめることができます。表示されるのは、最後の文の評価結果です。"
      ]
    },
    {
      "cell_type": "code",
      "execution_count": null,
      "id": "7f12c0c3",
      "metadata": {
        "tags": [],
        "id": "7f12c0c3"
      },
      "outputs": [],
      "source": [
        "x=1\n",
        "x"
      ]
    },
    {
      "cell_type": "markdown",
      "id": "09a90685",
      "metadata": {
        "id": "09a90685"
      },
      "source": [
        "複数の文を代入文を実行して、変数の値を表示させる複合文では、print関数を使うと変数の中身を示せます。"
      ]
    },
    {
      "cell_type": "code",
      "execution_count": null,
      "id": "357317e6",
      "metadata": {
        "id": "357317e6"
      },
      "outputs": [],
      "source": [
        "x=1\n",
        "y=2\n",
        "print(x)\n",
        "print(y)"
      ]
    },
    {
      "cell_type": "markdown",
      "id": "e2e956ec",
      "metadata": {
        "id": "e2e956ec"
      },
      "source": [
        "----"
      ]
    },
    {
      "cell_type": "markdown",
      "id": "e2aa656e",
      "metadata": {
        "id": "e2aa656e"
      },
      "source": [
        "## 2 基本的なデータ型"
      ]
    },
    {
      "cell_type": "markdown",
      "id": "1116dbff",
      "metadata": {
        "id": "1116dbff"
      },
      "source": [
        "### 2.1 文字列"
      ]
    },
    {
      "cell_type": "markdown",
      "id": "1a47a483",
      "metadata": {
        "id": "1a47a483"
      },
      "source": [
        "pythonの文字列は’（シングルクオーテーション）か \"（ダブルクオーテーション）で括る。文字列の中にどちらかが入っていた場合は、もう片方のクオーテーションが使える。バックスラッシュでエスケープるすこともできる。日本語もOK。"
      ]
    },
    {
      "cell_type": "code",
      "execution_count": null,
      "id": "dfda92d1",
      "metadata": {
        "id": "dfda92d1"
      },
      "outputs": [],
      "source": [
        "a = 'Masao Mori'\n",
        "b = \"森雅生\"\n",
        "print(a)\n",
        "print(b)"
      ]
    },
    {
      "cell_type": "code",
      "execution_count": null,
      "id": "e1ab7836",
      "metadata": {
        "id": "e1ab7836"
      },
      "outputs": [],
      "source": [
        "x = \"Masao's PC\"\n",
        "y = 'He said \"Hello\" to me'\n",
        "z = 'Masao\\'s PC'\n",
        "print(x)\n",
        "print(y)\n",
        "print(z)"
      ]
    },
    {
      "cell_type": "code",
      "execution_count": null,
      "id": "21f19924",
      "metadata": {
        "id": "21f19924"
      },
      "outputs": [],
      "source": [
        "print(x)\n",
        "print(x[0],x[2])\n",
        "print(x[-1], x[-2])"
      ]
    },
    {
      "cell_type": "markdown",
      "id": "6019d4c9",
      "metadata": {
        "id": "6019d4c9"
      },
      "source": [
        "前から数えた数（最初は０番目）で文字を指定できる。負の数の場合は末尾から数えた文字。"
      ]
    },
    {
      "cell_type": "markdown",
      "id": "77bfe298",
      "metadata": {
        "id": "77bfe298"
      },
      "source": [
        "----"
      ]
    },
    {
      "cell_type": "markdown",
      "id": "b1f38a19",
      "metadata": {
        "id": "b1f38a19"
      },
      "source": [
        "### 2.2 リスト"
      ]
    },
    {
      "cell_type": "markdown",
      "id": "09afcc24",
      "metadata": {
        "id": "09afcc24"
      },
      "source": [
        "リストは[と]で括る配列のデータ構造。要素のデータ型が異なっていても良い。入れ子も可能。"
      ]
    },
    {
      "cell_type": "code",
      "execution_count": null,
      "id": "c3420421",
      "metadata": {
        "id": "c3420421"
      },
      "outputs": [],
      "source": [
        "u = ['博士','修士','学士']\n",
        "v = [28, 90, 33.2, -11]\n",
        "w = [['博士','修士'], 20, 30]\n",
        "print(u)\n",
        "print(v)\n",
        "print(u[2],v[1])\n",
        "print(w[0],w[2])"
      ]
    },
    {
      "cell_type": "markdown",
      "id": "a9300b66",
      "metadata": {
        "id": "a9300b66"
      },
      "source": [
        "list関数に文字列を与えると、1文字づつ分割する。"
      ]
    },
    {
      "cell_type": "code",
      "execution_count": null,
      "id": "11a2025e",
      "metadata": {
        "id": "11a2025e"
      },
      "outputs": [],
      "source": [
        "week = '日月火水木金土'\n",
        "w = list(week)\n",
        "w"
      ]
    },
    {
      "cell_type": "markdown",
      "id": "12d1be67",
      "metadata": {
        "id": "12d1be67"
      },
      "source": [
        "文字列に含まれる印（例えばカンマ\",\"）を区切りに、分割する場合は文字列オブジェクトのsplitメソッドを用いる。"
      ]
    },
    {
      "cell_type": "code",
      "execution_count": null,
      "id": "335afb60",
      "metadata": {
        "id": "335afb60"
      },
      "outputs": [],
      "source": [
        "t = \"abc,def,ghi,jkl,mno,pqi,stu,vwx,yz\"\n",
        "tl=t.split(',')\n",
        "tl"
      ]
    },
    {
      "cell_type": "markdown",
      "id": "f511e847",
      "metadata": {
        "id": "f511e847"
      },
      "source": [
        "リストも文字列も番号で要素を指定する方法は似ています。"
      ]
    },
    {
      "cell_type": "code",
      "execution_count": null,
      "id": "bfcd2de1",
      "metadata": {
        "id": "bfcd2de1"
      },
      "outputs": [],
      "source": [
        "print(w[0],w[2])\n",
        "print(w[-1], w[-2])\n",
        "print(tl[0],tl[2])\n",
        "print(tl[-1], tl[-2])"
      ]
    },
    {
      "cell_type": "markdown",
      "id": "cf62c41c",
      "metadata": {
        "id": "cf62c41c"
      },
      "source": [
        "### 2.3 辞書"
      ]
    },
    {
      "cell_type": "markdown",
      "id": "4d6691bc",
      "metadata": {
        "id": "4d6691bc"
      },
      "source": [
        "リストは番号でインデックスをつけましたが、任意の文字列でも似たようなデータ構造を与えることができ、**辞書型**とよびます。\n",
        "キー（インデックス）とそれに対応する値を ':' を使って対を作り、{ } の中に並べます。\n",
        "\n",
        "値にはリストや辞書型データを入れ子で与えることができます。"
      ]
    },
    {
      "cell_type": "code",
      "execution_count": null,
      "id": "2d96477a",
      "metadata": {
        "id": "2d96477a"
      },
      "outputs": [],
      "source": [
        "country = { 'JP':'日本国', 'US':'アメリカ合衆国', 'UK':'英国' }\n",
        "print(country['JP'])\n",
        "print(country['UK'])"
      ]
    },
    {
      "cell_type": "markdown",
      "id": "441e2f61",
      "metadata": {
        "id": "441e2f61"
      },
      "source": [
        "-----"
      ]
    },
    {
      "cell_type": "markdown",
      "id": "1f95fd11",
      "metadata": {
        "id": "1f95fd11"
      },
      "source": [
        "## 3 Pandasのデータフレーム"
      ]
    },
    {
      "cell_type": "markdown",
      "id": "fe4b79bb",
      "metadata": {
        "id": "fe4b79bb"
      },
      "source": [
        "ExcelやCSVなど、IRでテーブルデータを扱うことは多く、**Pandas**モジュール（ライブラリ）はテーブルデータを処理する道具として広く用いられています。CSVやExcelとの親和性も高いです。モジュールは\n",
        "\n",
        "   **import モジュール名 as 別名**\n",
        "\n",
        "で呼び、以降は別名に指定した文字列で用います。Pandasであれば、"
      ]
    },
    {
      "cell_type": "code",
      "execution_count": null,
      "id": "89cb9b4d",
      "metadata": {
        "id": "89cb9b4d"
      },
      "outputs": [],
      "source": [
        "import pandas as pd # ここで実行してください、以下でpdを使用します。実行しても何も表示されません。"
      ]
    },
    {
      "cell_type": "markdown",
      "id": "09370b30",
      "metadata": {
        "id": "09370b30"
      },
      "source": [
        "とすることが多いです（別名をpdとしている例が多い）。モジュールの関数を使う場合は\n",
        "\n",
        "**pd.メソッド名( )**\n",
        "\n",
        "のように使います。\n",
        "\n",
        "--------"
      ]
    },
    {
      "cell_type": "markdown",
      "id": "d9ddc14b",
      "metadata": {
        "id": "d9ddc14b"
      },
      "source": [
        "### 3.1 Excelの表をPythonであつかう"
      ]
    },
    {
      "cell_type": "markdown",
      "id": "d64b8b2e",
      "metadata": {
        "id": "d64b8b2e"
      },
      "source": [
        "まず、左のファイルリストにある、\n",
        "\n",
        "**sample.xlsx**\n",
        "\n",
        "をダウンロード（右クリックで出てくるメニューからDowloadを選択）し、ファイルを開いて中身を見てください。これらのデータをpythonで操作し、DWで用いるテーブルを生成します。\n",
        "\n",
        "Excelの中身を見たら、次に以下のコードを実行してください。これらテーブルは、Pandasモジュールの**データフレーム**というデータ構造として読み込まれています。Excelファイルから読み込むときは **.read_excel()** メソッドを使います。"
      ]
    },
    {
      "cell_type": "code",
      "execution_count": null,
      "id": "80893aa8",
      "metadata": {
        "id": "80893aa8"
      },
      "outputs": [],
      "source": [
        "dpt = pd.read_excel(\"./sample.xlsx\", sheet_name='学科マスタ', engine=\"openpyxl\", dtype={'学科コード':str})\n",
        "crs = pd.read_excel(\"./sample.xlsx\", sheet_name='コースマスタ', engine=\"openpyxl\", dtype={'コースコード':str})\n",
        "sbj = pd.read_excel(\"./sample.xlsx\", sheet_name='科目マスタ', engine=\"openpyxl\", dtype={'学科コード':str, '科目コード':str,'コースコード':str})\n",
        "nat = pd.read_excel(\"./sample.xlsx\", sheet_name='国名マスタ', engine=\"openpyxl\", dtype={'国名コード':str})\n",
        "fac = pd.read_excel(\"./sample.xlsx\", sheet_name='教員情報', engine=\"openpyxl\", dtype={'PID':str})\n",
        "chg = pd.read_excel(\"./sample.xlsx\", sheet_name='授業主担当', engine=\"openpyxl\", dtype={'科目コード':str, 'PID':str})\n",
        "asn = pd.read_excel(\"./sample.xlsx\", sheet_name='授業分担率', engine=\"openpyxl\", dtype={'科目コード':str, 'PID':str})\n",
        "std = pd.read_excel(\"./sample.xlsx\", sheet_name='学籍情報', engine=\"openpyxl\", dtype={'SID':str, '学科':str})\n",
        "grd = pd.read_excel(\"./sample.xlsx\", sheet_name='成績情報', engine=\"openpyxl\", dtype={'科目コード':str, 'SID':str, '主担当':str})"
      ]
    },
    {
      "cell_type": "markdown",
      "id": "afd8d2ff",
      "metadata": {
        "id": "afd8d2ff"
      },
      "source": [
        "そして、dptからgrdまでの各変数を見てみましょう。"
      ]
    },
    {
      "cell_type": "markdown",
      "id": "73ee0424",
      "metadata": {
        "id": "73ee0424"
      },
      "source": [
        "*注）\"コード\"としているIDの列は数字文字列ですが、読み込むときに数値に変換するので、dtype変数に明示的に文字列データ（str）であることを指定してデータフレームに読み込んでいます。*"
      ]
    },
    {
      "cell_type": "code",
      "execution_count": null,
      "id": "6c32dc6f",
      "metadata": {
        "id": "6c32dc6f"
      },
      "outputs": [],
      "source": [
        "grd"
      ]
    },
    {
      "cell_type": "markdown",
      "id": "2da9a18a",
      "metadata": {
        "id": "2da9a18a"
      },
      "source": [
        "教務サンプル.xlsxの各シートが、データフレームというデータ構造で、各変数に格納されています。それぞれのカラムを見たいときは、データフレームgrd（成績情報）を例に取ると\n",
        "\n",
        "````\n",
        "grd.columns\n",
        "````\n",
        "\n",
        "か\n",
        "\n",
        "````\n",
        "list(grd.columns)\n",
        "````\n",
        "\n",
        "を実行してください。**[データフレーム名].columns** がカラム（属性）の名前を持っています。"
      ]
    },
    {
      "cell_type": "code",
      "execution_count": null,
      "id": "b3534408",
      "metadata": {
        "id": "b3534408"
      },
      "outputs": [],
      "source": [
        "print(grd.columns)\n",
        "print(list(grd.columns))"
      ]
    },
    {
      "cell_type": "markdown",
      "id": "6ab892f7",
      "metadata": {
        "id": "6ab892f7"
      },
      "source": [
        "**.info()**　メソッドは、さらに詳細なデータフレームの情報を表示します。"
      ]
    },
    {
      "cell_type": "code",
      "execution_count": null,
      "id": "494cef2e",
      "metadata": {
        "id": "494cef2e"
      },
      "outputs": [],
      "source": [
        "grd.info()"
      ]
    },
    {
      "cell_type": "markdown",
      "id": "a3aca93c",
      "metadata": {
        "id": "a3aca93c"
      },
      "source": [
        "また、データフレームは部分列に分割することができます。"
      ]
    },
    {
      "cell_type": "code",
      "execution_count": null,
      "id": "e54342fa",
      "metadata": {
        "id": "e54342fa"
      },
      "outputs": [],
      "source": [
        "sbj_tmp = sbj[['科目コード','科目名','単位数']]\n",
        "sbj_tmp # sbjを評価したときに表示される結果と比較してみてください。"
      ]
    },
    {
      "cell_type": "markdown",
      "id": "3df986be",
      "metadata": {
        "id": "3df986be"
      },
      "source": [
        "さらに、フィルタも次のように実行できます。以下、単位数が1である科目の抽出です。"
      ]
    },
    {
      "cell_type": "code",
      "execution_count": null,
      "id": "76521e38",
      "metadata": {
        "id": "76521e38"
      },
      "outputs": [],
      "source": [
        "sbj_one_crd = sbj[ sbj['単位数']==1 ]\n",
        "sbj_one_crd"
      ]
    },
    {
      "cell_type": "markdown",
      "id": "086fa2d6",
      "metadata": {
        "id": "086fa2d6"
      },
      "source": [
        "行（番号）と列（属性）を指定して値を拾うには、.locメソッドを使います。"
      ]
    },
    {
      "cell_type": "code",
      "execution_count": null,
      "id": "9483659a",
      "metadata": {
        "id": "9483659a"
      },
      "outputs": [],
      "source": [
        "sbj.loc[120, '科目名']"
      ]
    },
    {
      "cell_type": "markdown",
      "id": "a284151e",
      "metadata": {
        "id": "a284151e"
      },
      "source": [
        "------"
      ]
    },
    {
      "cell_type": "markdown",
      "id": "b66c31d8",
      "metadata": {
        "id": "b66c31d8"
      },
      "source": [
        "### 3.2 教務サンプル・データベースのテーブル"
      ]
    },
    {
      "cell_type": "markdown",
      "id": "1986340e",
      "metadata": {
        "id": "1986340e"
      },
      "source": [
        "<img src=\"https://www.irds.titech.ac.jp/wp-content/uploads/2021/05/tables.png\">"
      ]
    },
    {
      "cell_type": "markdown",
      "id": "eac230e9",
      "metadata": {
        "id": "eac230e9"
      },
      "source": [
        "一般に、業務システム（operational system）のデータベースに含まれるテーブルは**マスタ系**と**トランザクション系**に分類されます。\n",
        "\n",
        "- マスタ系・・・・業務を遂行する上で必要な基礎データ\n",
        "- トランザクション系・・・・業務を遂行すると発生するデータ\n",
        "\n",
        "しかし、必ずしもどちらか明確に分類されるわけではないので、どちらにも解釈できる場合、ここではハイブリッド系と呼ぶことにします。\n",
        "\n",
        "上のER図は、3.1で読み込んだ9個のテーブルのスキーム（テーブル定義）です。エンティティ（ここではテーブル）の色分けは、\n",
        "\n",
        "- 黄色：マスタ系（ほぼ発生・更新することがない）\n",
        "- 赤色：トランザクション系（学期単位で発生）\n",
        "- 緑色：ハイブリッド系（年単位で発生）\n",
        "\n",
        "としています。エンティティの矩形は3つに分かれており、上から順にテーブル名、主キー（複合の場合は全部）、属性が並んでいます。\n"
      ]
    },
    {
      "cell_type": "markdown",
      "id": "5d34b0b2",
      "metadata": {
        "id": "5d34b0b2"
      },
      "source": [
        "> これらのサンプルテーブルは、**主キーに対し残りの属性がすべて関数従属する**（主キーが決まれば他の属性の値が一意にきまる）ように構成されています。逆に言うと、全てのテーブルで主キーは重複することがないようになっています。\n",
        ">\n",
        "> 一般に、データベース・テーブルの1レコードが何を表しているのか明確にしておく必要があります。IRでは、さまざまなデータを組み合わせて（テーブルを結合して）新しいデータテーブルを生成して分析を行います。新しく生成されたテーブルに含まれる1レコードが、何を表しているかと言うことを明確にできなければ、分析が曖昧なものとなってしまいます。このことを次のように呼びましょう。\n",
        ">\n",
        "> **One record, one fact. (一行一事実)**\n",
        "\n",
        "-----"
      ]
    },
    {
      "cell_type": "markdown",
      "id": "79fd2966",
      "metadata": {
        "id": "79fd2966"
      },
      "source": [
        "### 3.3 教務サンプルのビュー"
      ]
    },
    {
      "cell_type": "markdown",
      "id": "0703b48c",
      "metadata": {
        "id": "0703b48c"
      },
      "source": [
        "サンプルの教務システムは、データの入力・更新を行うためにテーブルを結合させた**ビュー**を持っています。\n",
        "\n",
        "以下、データベースで定義されているビューをER図で見ていきますが、紹介するビュー群は、教務データベースが構築される際に、開発者が設計するものです。IRは、この技術情報をもとにDWを設計する必要があるので、この情報は非常に重要です。業務システム（データベース）の担当が、こうした技術情報を適切に管理しているかどうか、確認する必要があります。改修のたびに、手を加えた点や変更した点を技術情報に反映しておかなければ、IRでの活用ができなくなります。"
      ]
    },
    {
      "cell_type": "markdown",
      "id": "4d40e72c",
      "metadata": {
        "id": "4d40e72c"
      },
      "source": [
        "以下のビューは、教務システムの技術情報として管理されている（と期待される）ものです。IRが管理するのではなく、システム担当が維持管理するものです。ER図ではないかもしれませんが、これら技術情報からDWに渡すためのデータテーブルを**再構築する**ことがIRの仕事の出発点になります。\n",
        "\n",
        "1. <a href=\"./faculties_view.png\">教員情報一覧ビュー</a>\n",
        "2. <a href=\"./subjects_view.png\">授業情報一覧ビュー</a>\n",
        "3. <a href=\"./students_view.png\">学籍情報一覧ビュー</a>\n",
        "4. <a href=\"./charges_view.png\">授業主担当一覧ビュー</a>\n",
        "5. <a href=\"./rates_view.png\">授業分担率一覧ビュー</a>\n",
        "6. <a href=\"./grades_view.png\">成績一覧ビュー</a>"
      ]
    },
    {
      "cell_type": "markdown",
      "id": "d0164b4c",
      "metadata": {
        "id": "d0164b4c"
      },
      "source": [
        "#### 3.3.a 教員情報一覧ビュー"
      ]
    },
    {
      "cell_type": "markdown",
      "id": "65ecb071",
      "metadata": {
        "id": "65ecb071"
      },
      "source": [
        "<img src=\"https://github.com/MasaoMori/etl-lesson/blob/main/faculties_view.png?raw=1\">"
      ]
    },
    {
      "cell_type": "markdown",
      "id": "fb1c608d",
      "metadata": {
        "id": "fb1c608d"
      },
      "source": [
        "> 教員情報テーブルは、1レコードに大学に在職する「一人」の教員の氏名、（名の）読み、性別、国籍（コード）が記されています。また、国名マスタは、1レコードに「一つの国」の国名コード、国名（英語表記）、国名（日本語表記）が記されています。国名マスタと教員情報は、それぞれ「国名コード」と「国籍」の属性で結合し、右側の「教員情報一覧ビュー」を構成することができることを示しています。ただし、国名マスタと教員情報のレコードの対応は**1対多**。"
      ]
    },
    {
      "cell_type": "markdown",
      "id": "b8edb7fa",
      "metadata": {
        "id": "b8edb7fa"
      },
      "source": [
        "*注1）DWに教員情報一覧テーブルを作成する際、事実表（ファクトテーブル）となるエンティティ（ここでは教員情報テーブル）を紫色としました。以下、事実表となりえるエンティティを紫色にします。*\n",
        "\n",
        "*注2）ER図で何を示すかによって、事実表や次元表は相対的に変わります。教員情報一覧ビューを構成する際には、教員情報テーブルは事実表ですが、以下に示す成績情報一覧ビューでは事実表とはならず、次元表を構成するテーブルの一つになります。*"
      ]
    },
    {
      "cell_type": "markdown",
      "id": "74a7ce96",
      "metadata": {
        "id": "74a7ce96"
      },
      "source": [
        "SQLで上記ビューを生成すると次のようになると思います。\n",
        "\n",
        "```\n",
        "select 教員情報.PID, 教員情報.名前, 教員情報.読み, 国名マスタ.国名（日） as 国籍, 教員情報.性別\n",
        "from 教員情報 inner join 国名マスタ\n",
        "on 教員情報.国籍 = 国名マスタ.国名コード;\n",
        "```\n",
        "\n",
        "これをpythonのpandasモジュールを使うと、以下のように実行できます。"
      ]
    },
    {
      "cell_type": "code",
      "execution_count": null,
      "id": "222367d3",
      "metadata": {
        "id": "222367d3"
      },
      "outputs": [],
      "source": [
        "#\n",
        "# 教員情報はfac変数, 国名マスタはnat変数に読み込まれていた。\n",
        "# kyoinjoho変数に結合したビューを代入することにする。\n",
        "#\n",
        "\n",
        "fac_v = pd.merge(fac, nat, left_on='国籍', right_on='国名コード')\n",
        "fac_v"
      ]
    },
    {
      "cell_type": "code",
      "execution_count": null,
      "id": "4655cd1d",
      "metadata": {
        "id": "4655cd1d"
      },
      "outputs": [],
      "source": [
        "#\n",
        "# 余計な列を削除、データフレームの.dropメソッドを使う。国籍,国名コード,国名（英）が不要。columnsパラメタに削除する列名（属性）をリストで渡す。\n",
        "# 結果は、kyoinjoho変数に上書き\n",
        "#\n",
        "\n",
        "fac_v = fac_v.drop(columns=['国籍','国名コード','国名（英）'])\n",
        "fac_v"
      ]
    },
    {
      "cell_type": "code",
      "execution_count": null,
      "id": "c3af7036",
      "metadata": {
        "id": "c3af7036"
      },
      "outputs": [],
      "source": [
        "#\n",
        "# 属性（列）名である「国名（日）」を「国籍に入れ替え」。.renameメソッドを使う。属性名の変更は辞書型で与える。\n",
        "#\n",
        "\n",
        "fac_v = fac_v.rename(columns={'国名（日）':'国籍'})\n",
        "fac_v"
      ]
    },
    {
      "cell_type": "code",
      "execution_count": null,
      "id": "96096b48",
      "metadata": {
        "id": "96096b48"
      },
      "outputs": [],
      "source": [
        "#\n",
        "# 以上の操作をメソッドを繋ぐことで一気に実行可能\n",
        "#\n",
        "\n",
        "fac_v = pd.merge(fac, nat, left_on='国籍', right_on='国名コード').drop(columns=['国籍','国名コード','国名（英）']).rename(columns={'国名（日）':'国籍'})\n",
        "fac_v"
      ]
    },
    {
      "cell_type": "markdown",
      "id": "add55485",
      "metadata": {
        "id": "add55485"
      },
      "source": [
        "処理結果のデータフレームはcsvやexcelに落とすことができます。"
      ]
    },
    {
      "cell_type": "code",
      "execution_count": null,
      "id": "967f2d95",
      "metadata": {
        "id": "967f2d95"
      },
      "outputs": [],
      "source": [
        "fac_v.to_csv(\"./faculties_view.csv\", index=False)\n",
        "fac_v.to_excel(\"./faculties_view.xlsx\", index=False)\n",
        "\n",
        "# index=False は、出力するデータに新たにインデックスをつけないというオプション"
      ]
    },
    {
      "cell_type": "markdown",
      "id": "eb4d4135",
      "metadata": {
        "id": "eb4d4135"
      },
      "source": [
        "----"
      ]
    },
    {
      "cell_type": "markdown",
      "id": "c0c47dee",
      "metadata": {
        "id": "c0c47dee"
      },
      "source": [
        "#### 3.2.a 授業科目一覧ビュー"
      ]
    },
    {
      "cell_type": "markdown",
      "id": "0c2c76a8",
      "metadata": {
        "id": "0c2c76a8"
      },
      "source": [
        "<img src=\"https://www.irds.titech.ac.jp/wp-content/uploads/2021/05/subjects_view.png\">"
      ]
    },
    {
      "cell_type": "markdown",
      "id": "0a99482d",
      "metadata": {
        "id": "0a99482d"
      },
      "source": [
        "（＊テーブルの順序が上下逆ですが、のちの表示の都合です）"
      ]
    },
    {
      "cell_type": "markdown",
      "id": "e2401970",
      "metadata": {
        "id": "e2401970"
      },
      "source": [
        "> 科目マスタテーブルは、1レコードに、開講している「一つ」の授業の科目名、（その科目が分類されている）コース（コード）、専門（専門分野か否かを示すブール値）、単位数が記されています。また、コースマスタは、1レコードに「一つのコース」のコースコード、コース（名）が記されています。コースマスタと科目マスタは、「コースコード」属性で結合し、右側の「授業科目一覧」を構成することができることを示しています。ただし、コースマスタと科目マスタのレコードの対応は**1対多**。\n",
        "\n",
        "結合させる属性は、両テーブルに同じ名前である場合は省略します。"
      ]
    },
    {
      "cell_type": "markdown",
      "id": "2773bd8d",
      "metadata": {
        "id": "2773bd8d"
      },
      "source": [
        "**【問題】科目マスタとコースマスタは、それぞれ変数sbjと変数crsに読み込まれていますので、sbj_v変数に授業科目一覧のビューを生成してください。**\n",
        "\n",
        "   注）結合で対応する属性が同じ名前の場合は、left_onとright_onをonで省略できます。\n",
        "````\n",
        "pd.merge([左のデータフレーム], [右のデータフレーム], on=\"共通する結合属性\")\n",
        "````"
      ]
    },
    {
      "cell_type": "code",
      "execution_count": null,
      "id": "8407db38",
      "metadata": {
        "id": "8407db38"
      },
      "outputs": [],
      "source": [
        "sbj_v = pd.merge(sbj, crs, on='コースコード').drop(columns=['コースコード'])\n",
        "sbj_v"
      ]
    },
    {
      "cell_type": "markdown",
      "id": "e01b5b37",
      "metadata": {
        "id": "e01b5b37"
      },
      "source": [
        "----"
      ]
    },
    {
      "cell_type": "markdown",
      "id": "a200e831",
      "metadata": {
        "id": "a200e831"
      },
      "source": [
        "#### 3.3.c 学籍情報一覧ビュー"
      ]
    },
    {
      "cell_type": "markdown",
      "id": "a6451d3c",
      "metadata": {
        "id": "a6451d3c"
      },
      "source": [
        "<img src=\"https://www.irds.titech.ac.jp/wp-content/uploads/2021/05/students_view.png\">"
      ]
    },
    {
      "cell_type": "markdown",
      "id": "4d424bf3",
      "metadata": {
        "id": "4d424bf3"
      },
      "source": [
        "> 学籍情報テーブルは、1レコードに大学に所属する「一人」の学生の氏名、（名の）読み、国籍、性別、（所属する）学科コードが記されています。学科マスタは、1レコードに「一つの学科」の学科コード、学科（名）が記されています。国名マスタは、1レコードに「一つの国」の国名コード、国名（英語表記）、国名（日本語表記）が記されています。学科マスタは学籍情報と**1対多**、国名マスタと学籍情報も**1対多**。"
      ]
    },
    {
      "cell_type": "markdown",
      "id": "2ccaf427",
      "metadata": {
        "id": "2ccaf427"
      },
      "source": [
        "今回はマスタを2つ参照しますが、順番にmergeします。"
      ]
    },
    {
      "cell_type": "code",
      "execution_count": null,
      "id": "8f7d0770",
      "metadata": {
        "id": "8f7d0770"
      },
      "outputs": [],
      "source": [
        "std_v = pd.merge(std, dpt, left_on=\"学科\",right_on=\"学科コード\")\n",
        "std_v = pd.merge(std_v, nat, left_on=\"国籍\", right_on=\"国名コード\")\n",
        "std_v"
      ]
    },
    {
      "cell_type": "markdown",
      "id": "fe90ef65",
      "metadata": {
        "id": "fe90ef65"
      },
      "source": [
        "mergeメソッドを使うとき、各データフレームに同じ名前のカラム（属性）があった場合は、第一引数（left）のカラムには'_x'、第二引数（right）のカラムには'_y'が付加される。"
      ]
    },
    {
      "cell_type": "code",
      "execution_count": null,
      "id": "8320cb14",
      "metadata": {
        "id": "8320cb14"
      },
      "outputs": [],
      "source": [
        "std_v = std_v.drop(columns=[\"国籍\",\"学科_x\",\"学科コード\",\"国名コード\",\"国名（英）\"]).rename(columns={'学科_y':'学科', '国名（日）':'国籍'})\n",
        "std_v"
      ]
    },
    {
      "cell_type": "markdown",
      "id": "d0be8e24",
      "metadata": {
        "id": "d0be8e24"
      },
      "source": [
        "----"
      ]
    },
    {
      "cell_type": "markdown",
      "id": "f88c65dd",
      "metadata": {
        "id": "f88c65dd"
      },
      "source": [
        "#### 3.3.d 授業主担当一覧ビュー"
      ]
    },
    {
      "cell_type": "markdown",
      "id": "4b18afc3",
      "metadata": {
        "id": "4b18afc3"
      },
      "source": [
        "<img src=\"https://www.irds.titech.ac.jp/wp-content/uploads/2021/05/charges_view.png\">"
      ]
    },
    {
      "cell_type": "markdown",
      "id": "a6d9c85c",
      "metadata": {
        "id": "a6d9c85c"
      },
      "source": [
        "> 一つの科目を複数の教員で担当することもある。授業主担当テーブルは、1レコードが一つの科目に対応し、主担当の教員PIDをと科目コードが記されています。授業主担当と科目マスタは**1対1**、教員情報と授業主担当は**1対多**。科目マスタとコースマスタ、教員情報と国名マスタについては、それぞれ授業科目一覧ビューと教員情報一覧ビューを参照してください。"
      ]
    },
    {
      "cell_type": "markdown",
      "id": "37225f75",
      "metadata": {
        "id": "37225f75"
      },
      "source": [
        "このビューでは、すでに作成した授業科目一覧ビュー（sbj_v）と教員情報一覧ビュー（fac_v）が部分的に使われています。授業主担当ビュー（chg_v）の生成は、これらを活用します。付け替えたカラムの名前に注意しながら、mergeします。"
      ]
    },
    {
      "cell_type": "code",
      "execution_count": null,
      "id": "9ad1cbed",
      "metadata": {
        "id": "9ad1cbed"
      },
      "outputs": [],
      "source": [
        "chg_v = pd.merge(chg, fac_v, on=\"PID\").drop(columns=[\"PID\"])\n",
        "chg_v = pd.merge(chg_v,sbj_v, on=\"科目コード\").rename(columns={'名前':'授業主担当教員','国籍':'授業主担当教員国籍'})\n",
        "chg_v"
      ]
    },
    {
      "cell_type": "markdown",
      "id": "0f991dad",
      "metadata": {
        "id": "0f991dad"
      },
      "source": [
        "----"
      ]
    },
    {
      "cell_type": "markdown",
      "id": "4fa88494",
      "metadata": {
        "id": "4fa88494"
      },
      "source": [
        "##### **ER図とテーブルからIR用のDWテーブルを生成する際に注意すべきこと**"
      ]
    },
    {
      "cell_type": "markdown",
      "id": "1c7d265d",
      "metadata": {
        "id": "1c7d265d"
      },
      "source": [
        "1. ビューを作るときに、属性名の付け替えに注意すること。間違った属性名は、先の分析でエラーを起こす可能性があります。\n",
        "2. ER図では、事実表を中心に枝が伸びていく図になっていますが、**事実表から枝葉の方に多対1の方向性が保持**されていることに注意してください。途中、1対多や多対多がある場合は、生成されるデータテーブルで\"**One record, one fact**\"の原則が破られてしまいます。"
      ]
    },
    {
      "cell_type": "markdown",
      "id": "d4468822",
      "metadata": {
        "id": "d4468822"
      },
      "source": [
        "----"
      ]
    },
    {
      "cell_type": "markdown",
      "id": "6376b628",
      "metadata": {
        "id": "6376b628"
      },
      "source": [
        "#### 3.3.d 成績情報一覧ビュー"
      ]
    },
    {
      "cell_type": "markdown",
      "id": "420cc1f0",
      "metadata": {
        "id": "420cc1f0"
      },
      "source": [
        "<img src=\"https://www.irds.titech.ac.jp/wp-content/uploads/2021/05/grades_view.png\">"
      ]
    },
    {
      "cell_type": "markdown",
      "id": "e594a5e6",
      "metadata": {
        "id": "e594a5e6"
      },
      "source": [
        "> 成績情報テーブルでは、1レコードに「一人の学生」が履修した「一つの科目」の評点が記されています。成績情報と授業主担当、科目マスタ、学籍情報は、すべて多対1となっています。授業主担当、科目マスタ、学籍情報から先は、それぞれの一覧ビューを参照。\n",
        "\n",
        "授業主担当の部分は、授業主担当一覧ビューの一部分（科目情報が省かれている）ですが、授業主担当一覧ビューを活用することにします。"
      ]
    },
    {
      "cell_type": "markdown",
      "id": "d58c95e1",
      "metadata": {
        "id": "d58c95e1"
      },
      "source": [
        "- <a href=\"./subjects_view.png\">授業科目一覧ビュー</a>\n",
        "- <a href=\"./students_view.png\">学籍情報一覧ビュー</a>\n",
        "- <a href=\"./charges_view.png\">授業主担当一覧ビュー</a>"
      ]
    },
    {
      "cell_type": "code",
      "execution_count": null,
      "id": "339c690b",
      "metadata": {
        "id": "339c690b"
      },
      "outputs": [],
      "source": [
        "grd_v = pd.merge(grd, std_v, on=\"SID\")\n",
        "grd_v"
      ]
    },
    {
      "cell_type": "code",
      "execution_count": null,
      "id": "7944d626",
      "metadata": {
        "id": "7944d626"
      },
      "outputs": [],
      "source": [
        "grd_v = pd.merge(grd_v, sbj_v, on=\"科目コード\").drop(columns=['コース'])\n",
        "grd_v"
      ]
    },
    {
      "cell_type": "code",
      "execution_count": null,
      "id": "4651d749",
      "metadata": {
        "id": "4651d749"
      },
      "outputs": [],
      "source": [
        "# 授業主担当情報一覧ビューから、次の属性は grd_v にある属性と同じ名前なので、mergeする前に削除しておく。\n",
        "# ['性別','読み']....教員の属性であり、grd_vのそれらは学生の属性である。\n",
        "#\n",
        "chg_v = chg_v.drop(columns=['性別','読み','科目名','専門','コース','単位数'])\n",
        "\n",
        "grd_v = pd.merge(grd_v, chg_v, on=\"科目コード\")\n",
        "grd_v"
      ]
    },
    {
      "cell_type": "markdown",
      "id": "552a4034",
      "metadata": {
        "id": "552a4034"
      },
      "source": [
        "grd_vが、成績情報一覧ビューと内容となり、DW用のデータテーブルとなります。"
      ]
    },
    {
      "cell_type": "code",
      "execution_count": null,
      "id": "33fe828c",
      "metadata": {
        "id": "33fe828c"
      },
      "outputs": [],
      "source": [
        "grd_v.to_excel(\"./subjects_view.xlsx\", index=False)"
      ]
    },
    {
      "cell_type": "markdown",
      "id": "eaaebae8",
      "metadata": {
        "id": "eaaebae8"
      },
      "source": [
        "----"
      ]
    },
    {
      "cell_type": "markdown",
      "id": "c425141d",
      "metadata": {
        "id": "c425141d"
      },
      "source": [
        "### 3.4 Star Schema"
      ]
    },
    {
      "cell_type": "markdown",
      "id": "3389b035",
      "metadata": {
        "id": "3389b035"
      },
      "source": [
        "教務サンプルに含まれていた既存の成績情報一覧ビューを再利用して、DW用のデータテーブルを作成しました。ER図はシステムの設計図であり、改修ごとに変わっていく可能性があります。IRがDW用のデータテーブルの設計図を残す方法として、ER図を少し抽象化したStar Schemaと呼ばれる記法で記述することがあります。\n",
        "\n",
        "システムにはないビュー（例えば他のシステムからの連携）を作る場合にも、Star Schemaで記述しておいて、詳細はそれぞれのシステムの技術情報を参照すると言った手法をとります。"
      ]
    },
    {
      "cell_type": "markdown",
      "id": "92b4427d",
      "metadata": {
        "id": "92b4427d"
      },
      "source": [
        "<img src=\"https://www.irds.titech.ac.jp/wp-content/uploads/2021/05/StarSchema.png\">"
      ]
    },
    {
      "cell_type": "markdown",
      "id": "7a95b20d",
      "metadata": {
        "id": "7a95b20d"
      },
      "source": [
        "<img src=\"https://github.com/MasaoMori/etl-lesson/blob/main/StarSchema.png?raw=1\" width=\"500\">\n",
        "<img src=\"https://github.com/MasaoMori/etl-lesson/blob/main/StarSchema2.png?raw=1\" width=\"400\">"
      ]
    },
    {
      "cell_type": "markdown",
      "id": "2e91b4e2",
      "metadata": {
        "id": "2e91b4e2"
      },
      "source": [
        "-------"
      ]
    },
    {
      "cell_type": "markdown",
      "id": "e3f0d25d",
      "metadata": {
        "id": "e3f0d25d"
      },
      "source": [
        "### 3.5 多次元分析"
      ]
    },
    {
      "cell_type": "markdown",
      "id": "510e7e1d",
      "metadata": {
        "id": "510e7e1d"
      },
      "source": [
        "Pandasモジュールの **.pivot_tableメソッド** を使ってで簡易的に多次元分析を試みることができます。"
      ]
    },
    {
      "cell_type": "markdown",
      "id": "d1b6a208",
      "metadata": {
        "id": "d1b6a208"
      },
      "source": [
        "数値計算ライブラリNumpyモジュールをロードしておきます。"
      ]
    },
    {
      "cell_type": "code",
      "execution_count": null,
      "id": "f79992e3",
      "metadata": {
        "id": "f79992e3"
      },
      "outputs": [],
      "source": [
        "import numpy as np"
      ]
    },
    {
      "cell_type": "markdown",
      "id": "250f63f1",
      "metadata": {
        "id": "250f63f1"
      },
      "source": [
        "パラメタindexおよびcolumnsで多次元分析の行・列を指定します。valuesは集計する属性、aggfuncは集計方法です。"
      ]
    },
    {
      "cell_type": "code",
      "execution_count": null,
      "id": "9b75db41",
      "metadata": {
        "id": "9b75db41"
      },
      "outputs": [],
      "source": [
        "analysis_1 = pd.pivot_table(grd_v, index='学科', columns='性別', values='評点', aggfunc=np.mean)\n",
        "analysis_1"
      ]
    },
    {
      "cell_type": "markdown",
      "id": "08e00b6b",
      "metadata": {
        "id": "08e00b6b"
      },
      "source": [
        "aggfuncに指定できる関数の例は以下の通りです。np.＊となっているのはNumpyのメソッド\n",
        "\n",
        "|集計関数|(Numpy)メソッド|\n",
        "|--|--|\n",
        "|個数|len|\n",
        "|平均|np.mean|\n",
        "|標準偏差|np.std|\n",
        "|最小|np.min|\n",
        "|最大|np.max|\n",
        "|中央値|np.median|"
      ]
    },
    {
      "cell_type": "code",
      "execution_count": null,
      "id": "9eb553d5",
      "metadata": {
        "id": "9eb553d5"
      },
      "outputs": [],
      "source": [
        "analysis_2 = pd.pivot_table(grd_v, index='学科', columns='性別', values='評点', aggfunc=[len,np.min,np.mean,np.max])\n",
        "analysis_2"
      ]
    },
    {
      "cell_type": "code",
      "execution_count": null,
      "id": "f5c3d5f7",
      "metadata": {
        "id": "f5c3d5f7"
      },
      "outputs": [],
      "source": [
        "analysis_2 = pd.pivot_table(grd_v, index=['国籍','性別'], columns='学科', values='評点', aggfunc=len)\n",
        "analysis_2"
      ]
    }
  ],
  "metadata": {
    "celltoolbar": "Edit Metadata",
    "kernelspec": {
      "display_name": "Python 3 (ipykernel)",
      "language": "python",
      "name": "python3"
    },
    "language_info": {
      "codemirror_mode": {
        "name": "ipython",
        "version": 3
      },
      "file_extension": ".py",
      "mimetype": "text/x-python",
      "name": "python",
      "nbconvert_exporter": "python",
      "pygments_lexer": "ipython3",
      "version": "3.8.16"
    },
    "colab": {
      "provenance": []
    }
  },
  "nbformat": 4,
  "nbformat_minor": 5
}