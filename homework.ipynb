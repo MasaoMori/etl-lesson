{
 "cells": [
  {
   "cell_type": "code",
   "execution_count": null,
   "metadata": {},
   "outputs": [],
   "source": [
    "import pandas as pd #最初に実行しておいてください。"
   ]
  },
  {
   "cell_type": "code",
   "execution_count": null,
   "metadata": {},
   "outputs": [],
   "source": [
    "!pip install openpyxl"
   ]
  },
  {
   "cell_type": "markdown",
   "metadata": {},
   "source": [
    "# 問題"
   ]
  },
  {
   "cell_type": "markdown",
   "metadata": {},
   "source": [
    "以下の授業分担率一覧ビュー（変数名はwld_v）を、Pythonを用いて構成し、Excelファイル”rates_view.xlsx”に保存してください。"
   ]
  },
  {
   "cell_type": "markdown",
   "metadata": {},
   "source": [
    "<img src=\"https://www.irds.titech.ac.jp/wp-content/uploads/2021/05/rates_view.png\">"
   ]
  },
  {
   "cell_type": "code",
   "execution_count": null,
   "metadata": {},
   "outputs": [],
   "source": [
    "crs = pd.read_excel(\"./sample.xlsx\", sheet_name='コースマスタ', engine=\"openpyxl\", dtype={'コースコード':str})\n",
    "sbj = pd.read_excel(\"./sample.xlsx\", sheet_name='科目マスタ', engine=\"openpyxl\", dtype={'学科コード':str, '科目コード':str,'コースコード':str})\n",
    "nat = pd.read_excel(\"./sample.xlsx\", sheet_name='国名マスタ', engine=\"openpyxl\", dtype={'国名コード':str})\n",
    "fac = pd.read_excel(\"./sample.xlsx\", sheet_name='教員情報', engine=\"openpyxl\", dtype={'PID':str})\n",
    "wld = pd.read_excel(\"./sample.xlsx\", sheet_name='授業分担率', engine=\"openpyxl\", dtype={'科目コード':str, 'PID':str})"
   ]
  }
 ],
 "metadata": {
  "kernelspec": {
   "display_name": "Python 3 (ipykernel)",
   "language": "python",
   "name": "python3"
  },
  "language_info": {
   "codemirror_mode": {
    "name": "ipython",
    "version": 3
   },
   "file_extension": ".py",
   "mimetype": "text/x-python",
   "name": "python",
   "nbconvert_exporter": "python",
   "pygments_lexer": "ipython3",
   "version": "3.11.4"
  },
  "widgets": {
   "application/vnd.jupyter.widget-state+json": {
    "state": {},
    "version_major": 2,
    "version_minor": 0
   }
  }
 },
 "nbformat": 4,
 "nbformat_minor": 4
}
